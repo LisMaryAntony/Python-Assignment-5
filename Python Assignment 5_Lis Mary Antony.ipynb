{
 "cells": [
  {
   "cell_type": "markdown",
   "id": "36832dab-636a-4b36-871d-7335feda263c",
   "metadata": {},
   "source": [
    "# Calculator"
   ]
  },
  {
   "cell_type": "code",
   "execution_count": 3,
   "id": "0a1dca43-6d80-400c-88c2-7d8c7de1b19b",
   "metadata": {},
   "outputs": [],
   "source": [
    "def addition(a, b):\n",
    "    return a + b"
   ]
  },
  {
   "cell_type": "code",
   "execution_count": 5,
   "id": "f444d0ea-eb0b-412e-b31d-38bc0e37ebad",
   "metadata": {},
   "outputs": [],
   "source": [
    "def subtraction(a, b):\n",
    "    return a - b"
   ]
  },
  {
   "cell_type": "code",
   "execution_count": 7,
   "id": "366adf16-9c25-411c-95bb-7dce09258f0a",
   "metadata": {},
   "outputs": [],
   "source": [
    "def multiplication(a, b):\n",
    "    return a * b"
   ]
  },
  {
   "cell_type": "code",
   "execution_count": 9,
   "id": "0d897979-421d-4537-bf22-5a3bd916dd4a",
   "metadata": {},
   "outputs": [],
   "source": [
    "def division(a, b):\n",
    "    if b == 0:\n",
    "        return \"Error! Division by zero is not allowed.\"\n",
    "    return a / b"
   ]
  },
  {
   "cell_type": "code",
   "execution_count": 40,
   "id": "fef6ce6f-0b0c-4360-9c3f-d58f6b437469",
   "metadata": {},
   "outputs": [
    {
     "name": "stdout",
     "output_type": "stream",
     "text": [
      "Welcome to the Calculator!\n",
      "\n",
      "Please select an operation:\n",
      "1. Addition\n",
      "2. Subtraction\n",
      "3. Multiplication\n",
      "4. Division\n",
      "5. Exit\n"
     ]
    },
    {
     "name": "stdin",
     "output_type": "stream",
     "text": [
      "Enter your option (1/2/3/4/5):  1\n",
      "Enter the first number:  78\n",
      "Enter the second number:  23\n"
     ]
    },
    {
     "name": "stdout",
     "output_type": "stream",
     "text": [
      "The result of addition is: 101.0\n",
      "\n",
      "Please select an operation:\n",
      "1. Addition\n",
      "2. Subtraction\n",
      "3. Multiplication\n",
      "4. Division\n",
      "5. Exit\n"
     ]
    },
    {
     "name": "stdin",
     "output_type": "stream",
     "text": [
      "Enter your option (1/2/3/4/5):  2\n",
      "Enter the first number:  58\n",
      "Enter the second number:  34\n"
     ]
    },
    {
     "name": "stdout",
     "output_type": "stream",
     "text": [
      "The result of subtraction is: 24.0\n",
      "\n",
      "Please select an operation:\n",
      "1. Addition\n",
      "2. Subtraction\n",
      "3. Multiplication\n",
      "4. Division\n",
      "5. Exit\n"
     ]
    },
    {
     "name": "stdin",
     "output_type": "stream",
     "text": [
      "Enter your option (1/2/3/4/5):  2\n",
      "Enter the first number:  64\n",
      "Enter the second number:  84\n"
     ]
    },
    {
     "name": "stdout",
     "output_type": "stream",
     "text": [
      "The result of subtraction is: -20.0\n",
      "\n",
      "Please select an operation:\n",
      "1. Addition\n",
      "2. Subtraction\n",
      "3. Multiplication\n",
      "4. Division\n",
      "5. Exit\n"
     ]
    },
    {
     "name": "stdin",
     "output_type": "stream",
     "text": [
      "Enter your option (1/2/3/4/5):  3\n",
      "Enter the first number:  27\n",
      "Enter the second number:  76\n"
     ]
    },
    {
     "name": "stdout",
     "output_type": "stream",
     "text": [
      "The result of multiplication is: 2052.0\n",
      "\n",
      "Please select an operation:\n",
      "1. Addition\n",
      "2. Subtraction\n",
      "3. Multiplication\n",
      "4. Division\n",
      "5. Exit\n"
     ]
    },
    {
     "name": "stdin",
     "output_type": "stream",
     "text": [
      "Enter your option (1/2/3/4/5):  4\n",
      "Enter the first number:  65\n",
      "Enter the second number:  5\n"
     ]
    },
    {
     "name": "stdout",
     "output_type": "stream",
     "text": [
      "The result of division is: 13.0\n",
      "\n",
      "Please select an operation:\n",
      "1. Addition\n",
      "2. Subtraction\n",
      "3. Multiplication\n",
      "4. Division\n",
      "5. Exit\n"
     ]
    },
    {
     "name": "stdin",
     "output_type": "stream",
     "text": [
      "Enter your option (1/2/3/4/5):  5\n"
     ]
    },
    {
     "name": "stdout",
     "output_type": "stream",
     "text": [
      "Goodbye!\n"
     ]
    }
   ],
   "source": [
    "def calculator():\n",
    "    print(\"Welcome to the Calculator!\")\n",
    "    \n",
    "    while True:\n",
    "       \n",
    "        print(\"\\nPlease select an operation:\")\n",
    "        print(\"1. Addition\")\n",
    "        print(\"2. Subtraction\")\n",
    "        print(\"3. Multiplication\")\n",
    "        print(\"4. Division\")\n",
    "        print(\"5. Exit\")\n",
    "    \n",
    "        option = input(\"Enter your option (1/2/3/4/5): \")\n",
    "\n",
    "        if option == '5':\n",
    "            print(\"Goodbye!\")\n",
    "            break\n",
    "\n",
    "        a1 = input(\"Enter the first number: \")\n",
    "        b1 = input(\"Enter the second number: \")\n",
    "        a = float(a1)\n",
    "        b = float(b1)\n",
    "\n",
    "        \n",
    "        if option == '1':\n",
    "            print(f\"The result of addition is: {addition(a, b)}\")\n",
    "        elif option == '2':\n",
    "            print(f\"The result of subtraction is: {subtraction(a, b)}\")\n",
    "        elif option == '3':\n",
    "            print(f\"The result of multiplication is: {multiplication(a, b)}\")\n",
    "        elif option == '4':\n",
    "            print(f\"The result of division is: {division(a, b)}\")\n",
    "\n",
    "if __name__ == \"__main__\":\n",
    "    calculator()"
   ]
  }
 ],
 "metadata": {
  "kernelspec": {
   "display_name": "Python 3 (ipykernel)",
   "language": "python",
   "name": "python3"
  },
  "language_info": {
   "codemirror_mode": {
    "name": "ipython",
    "version": 3
   },
   "file_extension": ".py",
   "mimetype": "text/x-python",
   "name": "python",
   "nbconvert_exporter": "python",
   "pygments_lexer": "ipython3",
   "version": "3.12.4"
  }
 },
 "nbformat": 4,
 "nbformat_minor": 5
}
